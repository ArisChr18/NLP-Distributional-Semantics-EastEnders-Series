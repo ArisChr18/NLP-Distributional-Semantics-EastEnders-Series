{
  "cells": [
    {
      "cell_type": "markdown",
      "metadata": {
        "id": "aoQmluYuzvMo"
      },
      "source": [
        "# NLP Assignment 2 (40% of grade): Vector Space Semantics for Similarity between Eastenders Characters\n",
        "\n",
        "In this assignment, you will be creating a vector representation of a document containing lines spoken by a character in the Eastenders script data (i.e. from the file `training.csv`), then improving that representation such that each character vector is maximially distinguished from the other character documents. This distinction is measured by how well a simple information retrieval classification method can select documents from validation and test data as belonging to the correct class of document (i.e. deciding which character spoke the lines by measuring the similarity of those document vectors to those built in training).\n",
        "\n",
        "As the lines are not evenly distributed in terms of frequency, this coursework stipulates you can only use a maximum of the first **400 lines** of each character in the training data to create the training documents, and a maximum of the first **40 lines** in the test data (from `test.csv`). This makes it more challenging, as number of lines spoken by a character can't be used directly or otherwise as a feature.\n",
        "\n",
        "A simple vector representation for each character document is done for you to start with in this code, as is the pipeline of similarity based information retrieval based evaluation. You need to improve the character vector representations by pre-processing, feature extraction and transformation techniques, as per Questions 1-4 below, which you need to complete as instructed.\n",
        "\n",
        "**Refer to the material in units 7-8 for conceptual background.**"
      ]
    },
    {
      "cell_type": "code",
      "execution_count": 1,
      "metadata": {
        "id": "5kwWEcUezvMu"
      },
      "outputs": [],
      "source": [
        "import string\n",
        "import re\n",
        "import numpy as np\n",
        "from numpy.linalg import norm\n",
        "import pandas as pd\n",
        "from collections import Counter, OrderedDict\n",
        "\n",
        "import seaborn as sns\n",
        "import matplotlib.pyplot as plt\n",
        "\n",
        "import nltk\n",
        "\n",
        "from sklearn.feature_extraction import DictVectorizer\n",
        "\n",
        "%matplotlib inline\n",
        "pd.options.display.max_colwidth=500"
      ]
    },
    {
      "cell_type": "code",
      "execution_count": 2,
      "metadata": {
        "id": "jXMCvknWzvMv",
        "colab": {
          "base_uri": "https://localhost:8080/",
          "height": 423
        },
        "outputId": "d27acc93-6aa0-47ef-f2d0-ab15a05e8d2b"
      },
      "outputs": [
        {
          "output_type": "execute_result",
          "data": {
            "text/html": [
              "\n",
              "  <div id=\"df-32c6214b-f27a-4bc5-8f5b-cb891cdf4efd\">\n",
              "    <div class=\"colab-df-container\">\n",
              "      <div>\n",
              "<style scoped>\n",
              "    .dataframe tbody tr th:only-of-type {\n",
              "        vertical-align: middle;\n",
              "    }\n",
              "\n",
              "    .dataframe tbody tr th {\n",
              "        vertical-align: top;\n",
              "    }\n",
              "\n",
              "    .dataframe thead th {\n",
              "        text-align: right;\n",
              "    }\n",
              "</style>\n",
              "<table border=\"1\" class=\"dataframe\">\n",
              "  <thead>\n",
              "    <tr style=\"text-align: right;\">\n",
              "      <th></th>\n",
              "      <th>Episode</th>\n",
              "      <th>Scene</th>\n",
              "      <th>Scene_info</th>\n",
              "      <th>Character_name</th>\n",
              "      <th>Line</th>\n",
              "      <th>Gender</th>\n",
              "    </tr>\n",
              "  </thead>\n",
              "  <tbody>\n",
              "    <tr>\n",
              "      <th>0</th>\n",
              "      <td>1350</td>\n",
              "      <td>1</td>\n",
              "      <td>DESERTED CAR PARK EXT NIGHT</td>\n",
              "      <td>SHIRLEY</td>\n",
              "      <td>Look at ya, not a mark on ya. And you think you're an unlucky man.</td>\n",
              "      <td>FEMALE</td>\n",
              "    </tr>\n",
              "    <tr>\n",
              "      <th>1</th>\n",
              "      <td>1350</td>\n",
              "      <td>1</td>\n",
              "      <td>DESERTED CAR PARK EXT NIGHT</td>\n",
              "      <td>OTHER</td>\n",
              "      <td>Shirl...</td>\n",
              "      <td>MALE</td>\n",
              "    </tr>\n",
              "    <tr>\n",
              "      <th>2</th>\n",
              "      <td>1350</td>\n",
              "      <td>2</td>\n",
              "      <td>R&amp;R INT NIGHT</td>\n",
              "      <td>JACK</td>\n",
              "      <td>Oi. Where have you been? Huh? What were the texts about?</td>\n",
              "      <td>MALE</td>\n",
              "    </tr>\n",
              "    <tr>\n",
              "      <th>3</th>\n",
              "      <td>1350</td>\n",
              "      <td>2</td>\n",
              "      <td>R&amp;R INT NIGHT</td>\n",
              "      <td>RONNIE</td>\n",
              "      <td>Nothing. Nothing. I'll be with you in two minutes yeah?</td>\n",
              "      <td>FEMALE</td>\n",
              "    </tr>\n",
              "    <tr>\n",
              "      <th>4</th>\n",
              "      <td>1350</td>\n",
              "      <td>2</td>\n",
              "      <td>R&amp;R INT NIGHT</td>\n",
              "      <td>JACK</td>\n",
              "      <td>Well I've got mates here I wanted to have a chat with them, instead I've been serving behind the bar.</td>\n",
              "      <td>MALE</td>\n",
              "    </tr>\n",
              "    <tr>\n",
              "      <th>...</th>\n",
              "      <td>...</td>\n",
              "      <td>...</td>\n",
              "      <td>...</td>\n",
              "      <td>...</td>\n",
              "      <td>...</td>\n",
              "      <td>...</td>\n",
              "    </tr>\n",
              "    <tr>\n",
              "      <th>15314</th>\n",
              "      <td>1399</td>\n",
              "      <td>55</td>\n",
              "      <td>SQUARE EXT DAY LIGHT</td>\n",
              "      <td>OTHER</td>\n",
              "      <td>Dad? Okay ... alright, just one drink alright. But that's all. It doesn't mean anything. It's just a drink.</td>\n",
              "      <td>MALE</td>\n",
              "    </tr>\n",
              "    <tr>\n",
              "      <th>15315</th>\n",
              "      <td>1399</td>\n",
              "      <td>55</td>\n",
              "      <td>SQUARE EXT DAY LIGHT</td>\n",
              "      <td>MAX</td>\n",
              "      <td>Thanks Bradley. Thanks mate... It means the world to me...</td>\n",
              "      <td>MALE</td>\n",
              "    </tr>\n",
              "    <tr>\n",
              "      <th>15316</th>\n",
              "      <td>1399</td>\n",
              "      <td>55</td>\n",
              "      <td>SQUARE EXT DAY LIGHT</td>\n",
              "      <td>OTHER</td>\n",
              "      <td>You alright...</td>\n",
              "      <td>MALE</td>\n",
              "    </tr>\n",
              "    <tr>\n",
              "      <th>15317</th>\n",
              "      <td>1399</td>\n",
              "      <td>55</td>\n",
              "      <td>SQUARE EXT DAY LIGHT</td>\n",
              "      <td>MAX</td>\n",
              "      <td>Yeah, yeah, yeah. I'm fine.</td>\n",
              "      <td>MALE</td>\n",
              "    </tr>\n",
              "    <tr>\n",
              "      <th>15318</th>\n",
              "      <td>1399</td>\n",
              "      <td>55</td>\n",
              "      <td>SQUARE EXT DAY LIGHT</td>\n",
              "      <td>OTHER</td>\n",
              "      <td>Well, let me know.</td>\n",
              "      <td>MALE</td>\n",
              "    </tr>\n",
              "  </tbody>\n",
              "</table>\n",
              "<p>15319 rows × 6 columns</p>\n",
              "</div>\n",
              "      <button class=\"colab-df-convert\" onclick=\"convertToInteractive('df-32c6214b-f27a-4bc5-8f5b-cb891cdf4efd')\"\n",
              "              title=\"Convert this dataframe to an interactive table.\"\n",
              "              style=\"display:none;\">\n",
              "        \n",
              "  <svg xmlns=\"http://www.w3.org/2000/svg\" height=\"24px\"viewBox=\"0 0 24 24\"\n",
              "       width=\"24px\">\n",
              "    <path d=\"M0 0h24v24H0V0z\" fill=\"none\"/>\n",
              "    <path d=\"M18.56 5.44l.94 2.06.94-2.06 2.06-.94-2.06-.94-.94-2.06-.94 2.06-2.06.94zm-11 1L8.5 8.5l.94-2.06 2.06-.94-2.06-.94L8.5 2.5l-.94 2.06-2.06.94zm10 10l.94 2.06.94-2.06 2.06-.94-2.06-.94-.94-2.06-.94 2.06-2.06.94z\"/><path d=\"M17.41 7.96l-1.37-1.37c-.4-.4-.92-.59-1.43-.59-.52 0-1.04.2-1.43.59L10.3 9.45l-7.72 7.72c-.78.78-.78 2.05 0 2.83L4 21.41c.39.39.9.59 1.41.59.51 0 1.02-.2 1.41-.59l7.78-7.78 2.81-2.81c.8-.78.8-2.07 0-2.86zM5.41 20L4 18.59l7.72-7.72 1.47 1.35L5.41 20z\"/>\n",
              "  </svg>\n",
              "      </button>\n",
              "      \n",
              "  <style>\n",
              "    .colab-df-container {\n",
              "      display:flex;\n",
              "      flex-wrap:wrap;\n",
              "      gap: 12px;\n",
              "    }\n",
              "\n",
              "    .colab-df-convert {\n",
              "      background-color: #E8F0FE;\n",
              "      border: none;\n",
              "      border-radius: 50%;\n",
              "      cursor: pointer;\n",
              "      display: none;\n",
              "      fill: #1967D2;\n",
              "      height: 32px;\n",
              "      padding: 0 0 0 0;\n",
              "      width: 32px;\n",
              "    }\n",
              "\n",
              "    .colab-df-convert:hover {\n",
              "      background-color: #E2EBFA;\n",
              "      box-shadow: 0px 1px 2px rgba(60, 64, 67, 0.3), 0px 1px 3px 1px rgba(60, 64, 67, 0.15);\n",
              "      fill: #174EA6;\n",
              "    }\n",
              "\n",
              "    [theme=dark] .colab-df-convert {\n",
              "      background-color: #3B4455;\n",
              "      fill: #D2E3FC;\n",
              "    }\n",
              "\n",
              "    [theme=dark] .colab-df-convert:hover {\n",
              "      background-color: #434B5C;\n",
              "      box-shadow: 0px 1px 3px 1px rgba(0, 0, 0, 0.15);\n",
              "      filter: drop-shadow(0px 1px 2px rgba(0, 0, 0, 0.3));\n",
              "      fill: #FFFFFF;\n",
              "    }\n",
              "  </style>\n",
              "\n",
              "      <script>\n",
              "        const buttonEl =\n",
              "          document.querySelector('#df-32c6214b-f27a-4bc5-8f5b-cb891cdf4efd button.colab-df-convert');\n",
              "        buttonEl.style.display =\n",
              "          google.colab.kernel.accessAllowed ? 'block' : 'none';\n",
              "\n",
              "        async function convertToInteractive(key) {\n",
              "          const element = document.querySelector('#df-32c6214b-f27a-4bc5-8f5b-cb891cdf4efd');\n",
              "          const dataTable =\n",
              "            await google.colab.kernel.invokeFunction('convertToInteractive',\n",
              "                                                     [key], {});\n",
              "          if (!dataTable) return;\n",
              "\n",
              "          const docLinkHtml = 'Like what you see? Visit the ' +\n",
              "            '<a target=\"_blank\" href=https://colab.research.google.com/notebooks/data_table.ipynb>data table notebook</a>'\n",
              "            + ' to learn more about interactive tables.';\n",
              "          element.innerHTML = '';\n",
              "          dataTable['output_type'] = 'display_data';\n",
              "          await google.colab.output.renderOutput(dataTable, element);\n",
              "          const docLink = document.createElement('div');\n",
              "          docLink.innerHTML = docLinkHtml;\n",
              "          element.appendChild(docLink);\n",
              "        }\n",
              "      </script>\n",
              "    </div>\n",
              "  </div>\n",
              "  "
            ],
            "text/plain": [
              "       Episode  ...  Gender\n",
              "0         1350  ...  FEMALE\n",
              "1         1350  ...    MALE\n",
              "2         1350  ...    MALE\n",
              "3         1350  ...  FEMALE\n",
              "4         1350  ...    MALE\n",
              "...        ...  ...     ...\n",
              "15314     1399  ...    MALE\n",
              "15315     1399  ...    MALE\n",
              "15316     1399  ...    MALE\n",
              "15317     1399  ...    MALE\n",
              "15318     1399  ...    MALE\n",
              "\n",
              "[15319 rows x 6 columns]"
            ]
          },
          "metadata": {},
          "execution_count": 2
        }
      ],
      "source": [
        "# Load in training data and display in pandas dataframe\n",
        "train_path='training.csv'\n",
        "all_train_data = pd.read_csv(train_path,  delimiter=\"\\t\", skip_blank_lines = True)\n",
        "test_path ='test.csv'\n",
        "test_data = pd.read_csv(test_path,  delimiter=\"\\t\", skip_blank_lines = True)\n",
        "\n",
        "# Inspect\n",
        "all_train_data"
      ]
    },
    {
      "cell_type": "code",
      "execution_count": 3,
      "metadata": {
        "id": "t2HPfHSRzvMx",
        "colab": {
          "base_uri": "https://localhost:8080/"
        },
        "outputId": "197ab948-5512-4813-abcb-e1f9ff794f0f"
      },
      "outputs": [
        {
          "output_type": "stream",
          "name": "stdout",
          "text": [
            "1394\n",
            "1254 140\n"
          ]
        }
      ],
      "source": [
        "# Split into training and test data for heldout validation with random samples of 9:1 train/heldout split\n",
        "from random import shuffle, seed\n",
        "\n",
        "seed(0) # set a seed for reproducibility so same split is used each time\n",
        "\n",
        "epsiode_scene_column = all_train_data.Episode.astype(str) + \"-\" + all_train_data.Scene.astype(str)\n",
        "all_train_data['episode_scene'] = epsiode_scene_column\n",
        "episode_scenes = sorted(list(set([x for x in epsiode_scene_column.values]))) # set function is random, need to sort!\n",
        "\n",
        "shuffle(episode_scenes)\n",
        "\n",
        "print(len(episode_scenes))\n",
        "episode_split = int(0.9*len(episode_scenes))\n",
        "training_ep_scenes = episode_scenes[:episode_split]\n",
        "test_ep_scenes = episode_scenes[episode_split:]\n",
        "print(len(training_ep_scenes), len(test_ep_scenes))\n",
        "\n",
        "def train_or_heldout_eps(val):\n",
        "    if val in training_ep_scenes:\n",
        "        return \"training\"\n",
        "    return \"heldout\"\n",
        "\n",
        "all_train_data['train_heldout'] = all_train_data['episode_scene'].apply(train_or_heldout_eps)"
      ]
    },
    {
      "cell_type": "code",
      "execution_count": 4,
      "metadata": {
        "id": "qfP1yop-zvM6",
        "colab": {
          "base_uri": "https://localhost:8080/"
        },
        "outputId": "df992878-7981-4bdd-bd95-d4b7de4e28ff"
      },
      "outputs": [
        {
          "output_type": "stream",
          "name": "stdout",
          "text": [
            "Raw Data:  (15319, 8)\n",
            "Train set:  (13638, 8)\n",
            "Validation set:  (1681, 8)\n"
          ]
        }
      ],
      "source": [
        "print('Raw Data: ',np.shape(all_train_data))\n",
        "train_data = all_train_data[all_train_data['train_heldout']=='training']\n",
        "val_data = all_train_data[all_train_data['train_heldout']=='heldout']\n",
        "print('Train set: ',np.shape(train_data))\n",
        "print('Validation set: ',np.shape(val_data))"
      ]
    },
    {
      "cell_type": "code",
      "execution_count": 5,
      "metadata": {
        "id": "pRPh8u8gzvM6",
        "colab": {
          "base_uri": "https://localhost:8080/",
          "height": 537
        },
        "outputId": "da561b01-9fd4-4d9a-ad22-0881a684ace0"
      },
      "outputs": [
        {
          "output_type": "execute_result",
          "data": {
            "text/html": [
              "\n",
              "  <div id=\"df-47024e25-f729-40da-ba75-bf518dddd8ad\">\n",
              "    <div class=\"colab-df-container\">\n",
              "      <div>\n",
              "<style scoped>\n",
              "    .dataframe tbody tr th:only-of-type {\n",
              "        vertical-align: middle;\n",
              "    }\n",
              "\n",
              "    .dataframe tbody tr th {\n",
              "        vertical-align: top;\n",
              "    }\n",
              "\n",
              "    .dataframe thead th {\n",
              "        text-align: right;\n",
              "    }\n",
              "</style>\n",
              "<table border=\"1\" class=\"dataframe\">\n",
              "  <thead>\n",
              "    <tr style=\"text-align: right;\">\n",
              "      <th></th>\n",
              "      <th>Episode</th>\n",
              "      <th>Scene</th>\n",
              "      <th>Scene_info</th>\n",
              "      <th>Character_name</th>\n",
              "      <th>Line</th>\n",
              "      <th>Gender</th>\n",
              "      <th>episode_scene</th>\n",
              "      <th>train_heldout</th>\n",
              "    </tr>\n",
              "  </thead>\n",
              "  <tbody>\n",
              "    <tr>\n",
              "      <th>0</th>\n",
              "      <td>1350</td>\n",
              "      <td>1</td>\n",
              "      <td>DESERTED CAR PARK EXT NIGHT</td>\n",
              "      <td>SHIRLEY</td>\n",
              "      <td>Look at ya, not a mark on ya. And you think you're an unlucky man.</td>\n",
              "      <td>FEMALE</td>\n",
              "      <td>1350-1</td>\n",
              "      <td>training</td>\n",
              "    </tr>\n",
              "    <tr>\n",
              "      <th>1</th>\n",
              "      <td>1350</td>\n",
              "      <td>1</td>\n",
              "      <td>DESERTED CAR PARK EXT NIGHT</td>\n",
              "      <td>OTHER</td>\n",
              "      <td>Shirl...</td>\n",
              "      <td>MALE</td>\n",
              "      <td>1350-1</td>\n",
              "      <td>training</td>\n",
              "    </tr>\n",
              "    <tr>\n",
              "      <th>2</th>\n",
              "      <td>1350</td>\n",
              "      <td>2</td>\n",
              "      <td>R&amp;R INT NIGHT</td>\n",
              "      <td>JACK</td>\n",
              "      <td>Oi. Where have you been? Huh? What were the texts about?</td>\n",
              "      <td>MALE</td>\n",
              "      <td>1350-2</td>\n",
              "      <td>training</td>\n",
              "    </tr>\n",
              "    <tr>\n",
              "      <th>3</th>\n",
              "      <td>1350</td>\n",
              "      <td>2</td>\n",
              "      <td>R&amp;R INT NIGHT</td>\n",
              "      <td>RONNIE</td>\n",
              "      <td>Nothing. Nothing. I'll be with you in two minutes yeah?</td>\n",
              "      <td>FEMALE</td>\n",
              "      <td>1350-2</td>\n",
              "      <td>training</td>\n",
              "    </tr>\n",
              "    <tr>\n",
              "      <th>4</th>\n",
              "      <td>1350</td>\n",
              "      <td>2</td>\n",
              "      <td>R&amp;R INT NIGHT</td>\n",
              "      <td>JACK</td>\n",
              "      <td>Well I've got mates here I wanted to have a chat with them, instead I've been serving behind the bar.</td>\n",
              "      <td>MALE</td>\n",
              "      <td>1350-2</td>\n",
              "      <td>training</td>\n",
              "    </tr>\n",
              "    <tr>\n",
              "      <th>...</th>\n",
              "      <td>...</td>\n",
              "      <td>...</td>\n",
              "      <td>...</td>\n",
              "      <td>...</td>\n",
              "      <td>...</td>\n",
              "      <td>...</td>\n",
              "      <td>...</td>\n",
              "      <td>...</td>\n",
              "    </tr>\n",
              "    <tr>\n",
              "      <th>15314</th>\n",
              "      <td>1399</td>\n",
              "      <td>55</td>\n",
              "      <td>SQUARE EXT DAY LIGHT</td>\n",
              "      <td>OTHER</td>\n",
              "      <td>Dad? Okay ... alright, just one drink alright. But that's all. It doesn't mean anything. It's just a drink.</td>\n",
              "      <td>MALE</td>\n",
              "      <td>1399-55</td>\n",
              "      <td>training</td>\n",
              "    </tr>\n",
              "    <tr>\n",
              "      <th>15315</th>\n",
              "      <td>1399</td>\n",
              "      <td>55</td>\n",
              "      <td>SQUARE EXT DAY LIGHT</td>\n",
              "      <td>MAX</td>\n",
              "      <td>Thanks Bradley. Thanks mate... It means the world to me...</td>\n",
              "      <td>MALE</td>\n",
              "      <td>1399-55</td>\n",
              "      <td>training</td>\n",
              "    </tr>\n",
              "    <tr>\n",
              "      <th>15316</th>\n",
              "      <td>1399</td>\n",
              "      <td>55</td>\n",
              "      <td>SQUARE EXT DAY LIGHT</td>\n",
              "      <td>OTHER</td>\n",
              "      <td>You alright...</td>\n",
              "      <td>MALE</td>\n",
              "      <td>1399-55</td>\n",
              "      <td>training</td>\n",
              "    </tr>\n",
              "    <tr>\n",
              "      <th>15317</th>\n",
              "      <td>1399</td>\n",
              "      <td>55</td>\n",
              "      <td>SQUARE EXT DAY LIGHT</td>\n",
              "      <td>MAX</td>\n",
              "      <td>Yeah, yeah, yeah. I'm fine.</td>\n",
              "      <td>MALE</td>\n",
              "      <td>1399-55</td>\n",
              "      <td>training</td>\n",
              "    </tr>\n",
              "    <tr>\n",
              "      <th>15318</th>\n",
              "      <td>1399</td>\n",
              "      <td>55</td>\n",
              "      <td>SQUARE EXT DAY LIGHT</td>\n",
              "      <td>OTHER</td>\n",
              "      <td>Well, let me know.</td>\n",
              "      <td>MALE</td>\n",
              "      <td>1399-55</td>\n",
              "      <td>training</td>\n",
              "    </tr>\n",
              "  </tbody>\n",
              "</table>\n",
              "<p>13638 rows × 8 columns</p>\n",
              "</div>\n",
              "      <button class=\"colab-df-convert\" onclick=\"convertToInteractive('df-47024e25-f729-40da-ba75-bf518dddd8ad')\"\n",
              "              title=\"Convert this dataframe to an interactive table.\"\n",
              "              style=\"display:none;\">\n",
              "        \n",
              "  <svg xmlns=\"http://www.w3.org/2000/svg\" height=\"24px\"viewBox=\"0 0 24 24\"\n",
              "       width=\"24px\">\n",
              "    <path d=\"M0 0h24v24H0V0z\" fill=\"none\"/>\n",
              "    <path d=\"M18.56 5.44l.94 2.06.94-2.06 2.06-.94-2.06-.94-.94-2.06-.94 2.06-2.06.94zm-11 1L8.5 8.5l.94-2.06 2.06-.94-2.06-.94L8.5 2.5l-.94 2.06-2.06.94zm10 10l.94 2.06.94-2.06 2.06-.94-2.06-.94-.94-2.06-.94 2.06-2.06.94z\"/><path d=\"M17.41 7.96l-1.37-1.37c-.4-.4-.92-.59-1.43-.59-.52 0-1.04.2-1.43.59L10.3 9.45l-7.72 7.72c-.78.78-.78 2.05 0 2.83L4 21.41c.39.39.9.59 1.41.59.51 0 1.02-.2 1.41-.59l7.78-7.78 2.81-2.81c.8-.78.8-2.07 0-2.86zM5.41 20L4 18.59l7.72-7.72 1.47 1.35L5.41 20z\"/>\n",
              "  </svg>\n",
              "      </button>\n",
              "      \n",
              "  <style>\n",
              "    .colab-df-container {\n",
              "      display:flex;\n",
              "      flex-wrap:wrap;\n",
              "      gap: 12px;\n",
              "    }\n",
              "\n",
              "    .colab-df-convert {\n",
              "      background-color: #E8F0FE;\n",
              "      border: none;\n",
              "      border-radius: 50%;\n",
              "      cursor: pointer;\n",
              "      display: none;\n",
              "      fill: #1967D2;\n",
              "      height: 32px;\n",
              "      padding: 0 0 0 0;\n",
              "      width: 32px;\n",
              "    }\n",
              "\n",
              "    .colab-df-convert:hover {\n",
              "      background-color: #E2EBFA;\n",
              "      box-shadow: 0px 1px 2px rgba(60, 64, 67, 0.3), 0px 1px 3px 1px rgba(60, 64, 67, 0.15);\n",
              "      fill: #174EA6;\n",
              "    }\n",
              "\n",
              "    [theme=dark] .colab-df-convert {\n",
              "      background-color: #3B4455;\n",
              "      fill: #D2E3FC;\n",
              "    }\n",
              "\n",
              "    [theme=dark] .colab-df-convert:hover {\n",
              "      background-color: #434B5C;\n",
              "      box-shadow: 0px 1px 3px 1px rgba(0, 0, 0, 0.15);\n",
              "      filter: drop-shadow(0px 1px 2px rgba(0, 0, 0, 0.3));\n",
              "      fill: #FFFFFF;\n",
              "    }\n",
              "  </style>\n",
              "\n",
              "      <script>\n",
              "        const buttonEl =\n",
              "          document.querySelector('#df-47024e25-f729-40da-ba75-bf518dddd8ad button.colab-df-convert');\n",
              "        buttonEl.style.display =\n",
              "          google.colab.kernel.accessAllowed ? 'block' : 'none';\n",
              "\n",
              "        async function convertToInteractive(key) {\n",
              "          const element = document.querySelector('#df-47024e25-f729-40da-ba75-bf518dddd8ad');\n",
              "          const dataTable =\n",
              "            await google.colab.kernel.invokeFunction('convertToInteractive',\n",
              "                                                     [key], {});\n",
              "          if (!dataTable) return;\n",
              "\n",
              "          const docLinkHtml = 'Like what you see? Visit the ' +\n",
              "            '<a target=\"_blank\" href=https://colab.research.google.com/notebooks/data_table.ipynb>data table notebook</a>'\n",
              "            + ' to learn more about interactive tables.';\n",
              "          element.innerHTML = '';\n",
              "          dataTable['output_type'] = 'display_data';\n",
              "          await google.colab.output.renderOutput(dataTable, element);\n",
              "          const docLink = document.createElement('div');\n",
              "          docLink.innerHTML = docLinkHtml;\n",
              "          element.appendChild(docLink);\n",
              "        }\n",
              "      </script>\n",
              "    </div>\n",
              "  </div>\n",
              "  "
            ],
            "text/plain": [
              "       Episode  Scene  ... episode_scene train_heldout\n",
              "0         1350      1  ...        1350-1      training\n",
              "1         1350      1  ...        1350-1      training\n",
              "2         1350      2  ...        1350-2      training\n",
              "3         1350      2  ...        1350-2      training\n",
              "4         1350      2  ...        1350-2      training\n",
              "...        ...    ...  ...           ...           ...\n",
              "15314     1399     55  ...       1399-55      training\n",
              "15315     1399     55  ...       1399-55      training\n",
              "15316     1399     55  ...       1399-55      training\n",
              "15317     1399     55  ...       1399-55      training\n",
              "15318     1399     55  ...       1399-55      training\n",
              "\n",
              "[13638 rows x 8 columns]"
            ]
          },
          "metadata": {},
          "execution_count": 5
        }
      ],
      "source": [
        "train_data"
      ]
    },
    {
      "cell_type": "code",
      "execution_count": 6,
      "metadata": {
        "id": "ZjUl2eOLzvM7"
      },
      "outputs": [],
      "source": [
        "if False:\n",
        "    # A simpler alternative to the above, but where a high split means some characters\n",
        "    # may be left out\n",
        "    print('Raw Data: ',np.shape(all_train_data))\n",
        "    idx = int(0.9 * np.shape(all_train_data)[0])\n",
        "    train_data = all_train_data[:idx]\n",
        "    val_data = all_train_data[idx:]\n",
        "    print('Train set: ',np.shape(train_data))\n",
        "    print('Validation set: ',np.shape(val_data))"
      ]
    },
    {
      "cell_type": "code",
      "execution_count": 7,
      "metadata": {
        "id": "IZhowChAzvM8"
      },
      "outputs": [],
      "source": [
        "# Create one document per character\n",
        "def create_character_document_from_dataframe(df, max_line_count):\n",
        "    \"\"\"Returns a dict with the name of the character as key,\n",
        "    their lines joined together as a single string, with end of line _EOL_\n",
        "    markers between them.\n",
        "    \n",
        "    ::max_line_count:: the maximum number of lines to be added per character\n",
        "    \"\"\"\n",
        "    character_docs = {}\n",
        "    character_line_count = {}\n",
        "    for line, name, gender in zip(df.Line, df.Character_name, df.Gender):\n",
        "        if not name in character_docs.keys():\n",
        "            character_docs[name] = \"\"\n",
        "            character_line_count[name] = 0\n",
        "        if character_line_count[name]==max_line_count:\n",
        "            continue\n",
        "        character_docs[name] += str(line)   + \" _EOL_ \"  # adding an end-of-line token\n",
        "        character_line_count[name]+=1\n",
        "    print(\"lines per character\", character_line_count)\n",
        "    return character_docs"
      ]
    },
    {
      "cell_type": "code",
      "execution_count": 8,
      "metadata": {
        "id": "hdLiAcNFzvM9",
        "colab": {
          "base_uri": "https://localhost:8080/"
        },
        "outputId": "ce5fe41e-f42f-4948-c0da-299231e2aa60"
      },
      "outputs": [
        {
          "output_type": "stream",
          "name": "stdout",
          "text": [
            "lines per character {'SHIRLEY': 360, 'OTHER': 360, 'JACK': 360, 'RONNIE': 360, 'TANYA': 360, 'SEAN': 360, 'ROXY': 360, 'HEATHER': 360, 'MAX': 360, 'IAN': 360, 'JANE': 360, 'STACEY': 360, 'PHIL': 360, 'MINTY': 360, 'CHRISTIAN': 342, 'CLARE': 352}\n",
            "Num. Characters:  16 \n",
            "\n",
            "SHIRLEY Number of Words:  3848\n",
            "OTHER Number of Words:  3244\n",
            "JACK Number of Words:  4435\n",
            "RONNIE Number of Words:  3442\n",
            "TANYA Number of Words:  3786\n",
            "SEAN Number of Words:  3637\n",
            "ROXY Number of Words:  3838\n",
            "HEATHER Number of Words:  4098\n",
            "MAX Number of Words:  4363\n",
            "IAN Number of Words:  4332\n",
            "JANE Number of Words:  3648\n",
            "STACEY Number of Words:  3913\n",
            "PHIL Number of Words:  3635\n",
            "MINTY Number of Words:  4005\n",
            "CHRISTIAN Number of Words:  3738\n",
            "CLARE Number of Words:  4344\n",
            "total words 62306\n"
          ]
        }
      ],
      "source": [
        "# print out the number of words each character has in the training set\n",
        "# only use the first 360 lines of each character\n",
        "train_character_docs = create_character_document_from_dataframe(train_data, max_line_count=360)\n",
        "print('Num. Characters: ',len(train_character_docs.keys()),\"\\n\")\n",
        "total_words = 0\n",
        "for name in train_character_docs.keys():\n",
        "    print(name, 'Number of Words: ',len(train_character_docs[name].split()))\n",
        "    total_words += len(train_character_docs[name].split())\n",
        "print(\"total words\", total_words)"
      ]
    },
    {
      "cell_type": "code",
      "execution_count": 9,
      "metadata": {
        "id": "Am4C6nzZzvM-"
      },
      "outputs": [],
      "source": [
        "def pre_process(character_text):\n",
        "    \"\"\"Pre-process all the concatenated lines of a character, \n",
        "    using tokenization, spelling normalization and other techniques.\n",
        "    \n",
        "    Initially just a tokenization on white space. Improve this for Q1.\n",
        "    \n",
        "    ::character_text:: a string with all of one character's lines\n",
        "    \"\"\"\n",
        "    tokens = character_text.split()   # just a simple tokenization, to be replaced\n",
        "    return tokens"
      ]
    },
    {
      "cell_type": "code",
      "execution_count": 10,
      "metadata": {
        "id": "Gh84NLKFzvM_"
      },
      "outputs": [],
      "source": [
        "# create list of pairs of (character name, pre-processed character) \n",
        "training_corpus = [(name, pre_process(doc)) for name, doc in sorted(train_character_docs.items())]\n",
        "train_labels = [name for name, doc in training_corpus]"
      ]
    },
    {
      "cell_type": "code",
      "execution_count": 11,
      "metadata": {
        "id": "dzzoYlzWzvM_"
      },
      "outputs": [],
      "source": [
        "def to_feature_vector_dictionary(character_doc, extra_features=[]):\n",
        "    \"\"\"Converts a list of pre-processed tokens and extra features\n",
        "    to a Dictionary as a function of the tokens.\n",
        "    \n",
        "    Initially just a simple count. Improve this for Q2.\n",
        "    \n",
        "    ::character_doc:: a list of pre-processed tokens\n",
        "    ::extra_features:: any extra features for the character to be added to feature vector dict\n",
        "    \"\"\"\n",
        "    counts = Counter(character_doc)  # for now a simple count\n",
        "    counts = dict(counts)\n",
        "    # add the extra features, for now just adding one count for each extra feature\n",
        "    for feature in extra_features:\n",
        "        counts[feature] += 1\n",
        "    return counts  "
      ]
    },
    {
      "cell_type": "code",
      "execution_count": 12,
      "metadata": {
        "id": "hY7VFb-GzvNA"
      },
      "outputs": [],
      "source": [
        "corpusVectorizer = DictVectorizer()   # corpusVectorizor which will just produce sparse vectors from feature dicts\n",
        "# Any matrix transformers (e.g. tf-idf transformers) should be initialized here\n",
        "\n",
        "\n",
        "def create_document_matrix_from_corpus(corpus, fitting=False):\n",
        "    \"\"\"Method which fits different vectorizers\n",
        "    on data and returns a matrix.\n",
        "    \n",
        "    Currently just does simple conversion to matrix by vectorizing the dictionary. Improve this for Q3.\n",
        "    \n",
        "    ::corpus:: a list of (class_label, document) pairs.\n",
        "    ::fitting:: a boolean indicating whether to fit/train the vectorizers (should be true on training data)\n",
        "    \"\"\"\n",
        "    \n",
        "    # uses the global variable of the corpus Vectorizer to improve things\n",
        "    if fitting:\n",
        "        corpusVectorizer.fit([to_feature_vector_dictionary(doc) for name, doc in corpus])\n",
        "    doc_feature_matrix = corpusVectorizer.transform([to_feature_vector_dictionary(doc) for name, doc in corpus])\n",
        "    \n",
        "    #training_feature_matrix[0].toarray()\n",
        "    return doc_feature_matrix\n",
        "\n",
        "training_feature_matrix = create_document_matrix_from_corpus(training_corpus, fitting=True)"
      ]
    },
    {
      "cell_type": "code",
      "execution_count": 13,
      "metadata": {
        "id": "DucrzGK1zvNB",
        "colab": {
          "base_uri": "https://localhost:8080/"
        },
        "outputId": "a2b076c4-80c0-487a-ac3e-b2295b9c96f9"
      },
      "outputs": [
        {
          "output_type": "execute_result",
          "data": {
            "text/plain": [
              "<16x8202 sparse matrix of type '<class 'numpy.float64'>'\n",
              "\twith 20749 stored elements in Compressed Sparse Row format>"
            ]
          },
          "metadata": {},
          "execution_count": 13
        }
      ],
      "source": [
        "training_feature_matrix"
      ]
    },
    {
      "cell_type": "code",
      "execution_count": 14,
      "metadata": {
        "id": "823YcFQXzvNB",
        "colab": {
          "base_uri": "https://localhost:8080/"
        },
        "outputId": "1ac8ddea-2677-4e3d-ddec-f4336aef823b"
      },
      "outputs": [
        {
          "output_type": "stream",
          "name": "stdout",
          "text": [
            "lines per character {'TANYA': 40, 'MAX': 40, 'SEAN': 35, 'SHIRLEY': 40, 'OTHER': 40, 'STACEY': 40, 'RONNIE': 40, 'JACK': 40, 'PHIL': 40, 'IAN': 40, 'JANE': 40, 'ROXY': 40, 'HEATHER': 40, 'MINTY': 40, 'CHRISTIAN': 40, 'CLARE': 40}\n",
            "Num. Characters:  16 \n",
            "\n",
            "TANYA Num of Words:  438\n",
            "MAX Num of Words:  737\n",
            "SEAN Num of Words:  366\n",
            "SHIRLEY Num of Words:  329\n",
            "OTHER Num of Words:  357\n",
            "STACEY Num of Words:  412\n",
            "RONNIE Num of Words:  464\n",
            "JACK Num of Words:  351\n",
            "PHIL Num of Words:  475\n",
            "IAN Num of Words:  508\n",
            "JANE Num of Words:  458\n",
            "ROXY Num of Words:  392\n",
            "HEATHER Num of Words:  411\n",
            "MINTY Num of Words:  470\n",
            "CHRISTIAN Num of Words:  489\n",
            "CLARE Num of Words:  405\n",
            "total words 7062\n"
          ]
        }
      ],
      "source": [
        "# get the validation data- only 40 lines used for each character\n",
        "val_character_docs = create_character_document_from_dataframe(val_data, max_line_count=40)\n",
        "print('Num. Characters: ',len(val_character_docs.keys()),\"\\n\")\n",
        "total_words = 0\n",
        "for name in val_character_docs.keys():\n",
        "    print(name, 'Num of Words: ',len(val_character_docs[name].split()))\n",
        "    total_words += len(val_character_docs[name].split())\n",
        "print(\"total words\", total_words)\n",
        "\n",
        "# create list of pairs of (character name, pre-processed character) \n",
        "val_corpus = [(name, pre_process(doc)) for name, doc in sorted(val_character_docs.items())]\n",
        "val_labels = [name for name, doc in val_corpus]"
      ]
    },
    {
      "cell_type": "code",
      "execution_count": 15,
      "metadata": {
        "id": "ZGgwIJFxzvNC"
      },
      "outputs": [],
      "source": [
        "# Just transform the val_feature_matrix, don't fit\n",
        "val_feature_matrix = create_document_matrix_from_corpus(val_corpus, fitting=False)"
      ]
    },
    {
      "cell_type": "code",
      "execution_count": 16,
      "metadata": {
        "id": "ljDcBscYzvNC",
        "colab": {
          "base_uri": "https://localhost:8080/"
        },
        "outputId": "376d7124-9d60-4b2b-f4b8-2ed7f20d98c9"
      },
      "outputs": [
        {
          "output_type": "execute_result",
          "data": {
            "text/plain": [
              "<16x8202 sparse matrix of type '<class 'numpy.float64'>'\n",
              "\twith 3618 stored elements in Compressed Sparse Row format>"
            ]
          },
          "metadata": {},
          "execution_count": 16
        }
      ],
      "source": [
        "val_feature_matrix"
      ]
    },
    {
      "cell_type": "code",
      "execution_count": 17,
      "metadata": {
        "id": "XuflRL92zvNC"
      },
      "outputs": [],
      "source": [
        "def compute_cosine_similarity(v1, v2):\n",
        "    \"\"\"Takes a pair of vectors v1 and v2 (1-d arrays e.g. [0, 0.5, 0.5])\n",
        "    returns the cosine similarity between the vectors\n",
        "    \"\"\"\n",
        "    \n",
        "    # compute cosine similarity manually\n",
        "    manual_cosine_similarity = np.dot(v1, v2)  /(norm(v1) * norm(v2))\n",
        "    \n",
        "    return manual_cosine_similarity"
      ]
    },
    {
      "cell_type": "code",
      "execution_count": 18,
      "metadata": {
        "id": "dm0lGatUzvND"
      },
      "outputs": [],
      "source": [
        "def compute_IR_evaluation_scores(train_feature_matrix, test_feature_matrix, train_labels, test_labels):\n",
        "    \"\"\"\n",
        "    Computes an information retrieval based on training data feature matrix and test data feature matrix\n",
        "    returns 4-tuple:\n",
        "    ::mean_rank:: mean of the ranking of the target document in terms of similarity to the query/test document\n",
        "    1 is the best possible score.\n",
        "    ::mean_cosine_similarity:: mean cosine similarity score for the target document vs. the test document of the same class\n",
        "    ::accuracy:: proportion of test documents correctly classified\n",
        "    ::df:: a data frame with all the similarity measures of the test documents vs. train documents\n",
        "    \n",
        "    params:\n",
        "    ::train_feature_matrix:: a numpy matrix N x M shape where N = number of characters M = number of features\n",
        "    ::test_feature_matrix::  a numpy matrix N x M shape where N = number of characters M = number of features\n",
        "    ::train_labels:: a list of character names for the training data in order consistent with train_feature_matrix\n",
        "    ::test_labels:: a list of character names for the test data in order consistent with test_feature_matrix\n",
        "    \"\"\"\n",
        "    rankings = []\n",
        "    all_cosine_similarities = []\n",
        "    pairwise_cosine_similarity = []\n",
        "    pairs = []\n",
        "    correct = 0\n",
        "    for i, target in enumerate(test_labels):\n",
        "        # compare the left out character against the mean\n",
        "        idx = i \n",
        "        fm_1 = test_feature_matrix.toarray()[idx]\n",
        "        all_sims = {}\n",
        "        # print(\"target:\", target)\n",
        "        for j, other in enumerate(train_labels):\n",
        "            fm_2 = train_feature_matrix.toarray()[j]\n",
        "            manual_cosine_similarity = compute_cosine_similarity(fm_1, fm_2)\n",
        "            pairs.append((target, other))\n",
        "            pairwise_cosine_similarity.append(manual_cosine_similarity)\n",
        "            if other == target:\n",
        "                all_cosine_similarities.append(manual_cosine_similarity)\n",
        "            all_sims[other] = manual_cosine_similarity\n",
        "\n",
        "            # print(target, other, manual_cosine_similarity)\n",
        "        sorted_similarities = sorted(all_sims.items(),key=lambda x:x[1],reverse=True)\n",
        "        # print(sorted_similarities)\n",
        "        ranking = {key[0]: rank for rank, key in enumerate(sorted_similarities, 1)}\n",
        "        # print(\"Ranking for target\", ranking[target])\n",
        "        if ranking[target] == 1:\n",
        "            correct += 1\n",
        "        rankings.append(ranking[target])\n",
        "        # print(\"*****\")\n",
        "    mean_rank = np.mean(rankings)\n",
        "    mean_cosine_similarity = np.mean(all_cosine_similarities)\n",
        "    accuracy = correct/len(test_labels)\n",
        "    print(\"mean rank\", np.mean(rankings))\n",
        "    print(\"mean cosine similarity\", mean_cosine_similarity)\n",
        "    print(correct, \"correct out of\", len(test_labels), \"/ accuracy:\", accuracy )\n",
        "    \n",
        "    # get a dafaframe showing all the similarity scores of training vs test docs\n",
        "    df = pd.DataFrame({'doc1': [x[0] for x in pairs], 'doc2': [x[1] for x in pairs],\n",
        "                       'similarity': pairwise_cosine_similarity})\n",
        "\n",
        "    # display characters which are most similar and least similar\n",
        "    df.loc[[df.similarity.values.argmax(), df.similarity.values.argmin()]]\n",
        "    return (mean_rank, mean_cosine_similarity, accuracy, df)"
      ]
    },
    {
      "cell_type": "code",
      "execution_count": 19,
      "metadata": {
        "id": "untYc6jVzvND"
      },
      "outputs": [],
      "source": [
        "def plot_heat_map_similarity(df):\n",
        "    \"\"\"Takes a dataframe with header 'doc1, doc2, similarity'\n",
        "    Plots a heatmap based on the similarity scores.\n",
        "    \"\"\"\n",
        "    test_labels =  sorted(list(set(df.sort_values(['doc1'])['doc1'])))\n",
        "    # add padding 1.0 values to either side\n",
        "    cm = [[1.0,] * (len(test_labels)+2)]\n",
        "    for target in test_labels:\n",
        "        new_row = [1.0]\n",
        "        for x in df.sort_values(['doc1', 'doc2'])[df['doc1']==target]['similarity']:\n",
        "            new_row.append(x)\n",
        "        new_row.append(1.0)\n",
        "        cm.append(new_row)\n",
        "    cm.append([1.0,] * (len(test_labels)+2))\n",
        "    #print(cm)\n",
        "    labels = [\"\"] + test_labels + [\"\"]\n",
        "    fig = plt.figure(figsize=(20,20))\n",
        "    ax = fig.add_subplot(111)\n",
        "    cax = ax.matshow(cm)\n",
        "    plt.title('Similarity matrix between documents as vectors')\n",
        "    fig.colorbar(cax)\n",
        "    ax.set_xticks(np.arange(len(labels)))\n",
        "    ax.set_yticks(np.arange(len(labels)))\n",
        "    ax.set_xticklabels( labels, rotation=45)\n",
        "    ax.set_yticklabels( labels)\n",
        "\n",
        "    for i in range(len(cm)):\n",
        "        for j in range(len(cm)):\n",
        "\n",
        "            text = ax.text(j, i, round(cm[i][j],3),\n",
        "                           ha=\"center\", va=\"center\", color=\"w\")\n",
        "\n",
        "    plt.xlabel('Training Vector Doc')\n",
        "    plt.ylabel('Test Vector Doc')\n",
        "    #fig.tight_layout()\n",
        "    plt.show()"
      ]
    },
    {
      "cell_type": "code",
      "execution_count": 20,
      "metadata": {
        "id": "v_c3RTapzvNE",
        "colab": {
          "base_uri": "https://localhost:8080/"
        },
        "outputId": "47f2a9da-0e73-4945-c53a-b0478f7a785e"
      },
      "outputs": [
        {
          "output_type": "stream",
          "name": "stdout",
          "text": [
            "mean rank 4.5\n",
            "mean cosine similarity 0.9128136458100018\n",
            "4 correct out of 16 / accuracy: 0.25\n"
          ]
        }
      ],
      "source": [
        "mean_rank, mean_cosine_simliarity, acc, df = compute_IR_evaluation_scores(training_feature_matrix, val_feature_matrix, train_labels, val_labels)"
      ]
    },
    {
      "cell_type": "code",
      "execution_count": 21,
      "metadata": {
        "id": "d8312R9GzvNE",
        "colab": {
          "base_uri": "https://localhost:8080/",
          "height": 1000
        },
        "outputId": "e14e50fb-e284-4e44-b1b5-372d95c52d0d"
      },
      "outputs": [
        {
          "output_type": "display_data",
          "data": {
            "image/png": "[encoded data removed]",
            "text/plain": [
              "<Figure size 1440x1440 with 2 Axes>"
            ]
          },
          "metadata": {
            "needs_background": "light"
          }
        }
      ],
      "source": [
        "plot_heat_map_similarity(df)"
      ]
    },
    {
      "cell_type": "markdown",
      "metadata": {
        "id": "DqAGuT9QzvNF"
      },
      "source": [
        "# Q1. Improve pre-processing (10 marks)\n",
        "Using the pre-processing techniques you have learned in the module, improve the `pre_process` function above, which currently just tokenizes text based on white space.\n",
        "\n",
        "When developing, use the 90% train and 10% validation data split from the training file, using the first 360 lines from the training split and first 40 lines from the validation split, as per above. To check the improvements by using the different techniques, use the `compute_IR_evaluation_scores` function as above. The **mean rank** is the main metric you need to focus on improving throughout this assignment, where the target/best possible performance is **1** (i.e. all test/validation data character documents are closest to their corresponding training data character documents) and the worst is **16**. Initially the code in this template achieves a mean rank of **5.12**  and accuracy of **0.3125** on the test set- you should be looking to improve those, particularly getting the mean rank as close to 1 as possible.\n"
      ]
    },
    {
      "cell_type": "code",
      "source": [
        "from nltk.tokenize import word_tokenize\n",
        "from nltk.stem import PorterStemmer\n",
        "nltk.download('punkt')"
      ],
      "metadata": {
        "id": "AdiJJUMyBaUI",
        "colab": {
          "base_uri": "https://localhost:8080/"
        },
        "outputId": "4bfd5c5e-6d4d-4303-dee4-eab0a3d46519"
      },
      "execution_count": 22,
      "outputs": [
        {
          "output_type": "stream",
          "name": "stdout",
          "text": [
            "[nltk_data] Downloading package punkt to /root/nltk_data...\n",
            "[nltk_data]   Package punkt is already up-to-date!\n"
          ]
        },
        {
          "output_type": "execute_result",
          "data": {
            "text/plain": [
              "True"
            ]
          },
          "metadata": {},
          "execution_count": 22
        }
      ]
    },
    {
      "cell_type": "code",
      "source": [
        "def pre_process(character_text):\n",
        "\n",
        "  ps = PorterStemmer()\n",
        "\n",
        "  tokens = word_tokenize(character_text)\n",
        "  tokens\n",
        "\n",
        "  remove = [\"_eol_\"]\n",
        "\n",
        "  sentence = []\n",
        "\n",
        "  for word in tokens:\n",
        "    sentence.append(ps.stem(word))\n",
        "\n",
        "  for w in sentence:\n",
        "    if w in remove:\n",
        "      sentence.remove(w)\n",
        "\n",
        "  return sentence"
      ],
      "metadata": {
        "id": "lqg4L42g2ZKb"
      },
      "execution_count": 23,
      "outputs": []
    },
    {
      "cell_type": "code",
      "source": [
        "training_corpus = [(name, pre_process(doc)) for name, doc in sorted(train_character_docs.items())]\n",
        "train_labels = [name for name, doc in training_corpus]"
      ],
      "metadata": {
        "id": "TFbUduGY83xq"
      },
      "execution_count": 24,
      "outputs": []
    },
    {
      "cell_type": "code",
      "source": [
        "def to_feature_vector_dictionary(character_doc, extra_features=[]):\n",
        "  \n",
        "    counts = Counter(character_doc)  # for now a simple count\n",
        "    counts = dict(counts)\n",
        "    # add the extra features, for now just adding one count for each extra feature\n",
        "    for feature in extra_features:\n",
        "        counts[feature] += 1\n",
        "    return counts  "
      ],
      "metadata": {
        "id": "JiK5PWpt89fQ"
      },
      "execution_count": 25,
      "outputs": []
    },
    {
      "cell_type": "code",
      "source": [
        "corpusVectorizer = DictVectorizer()   # corpusVectorizor which will just produce sparse vectors from feature dicts\n",
        "# Any matrix transformers (e.g. tf-idf transformers) should be initialized here\n",
        "\n",
        "\n",
        "def create_document_matrix_from_corpus(corpus, fitting=False):\n",
        "    \n",
        "    # uses the global variable of the corpus Vectorizer to improve things\n",
        "    if fitting:\n",
        "        corpusVectorizer.fit([to_feature_vector_dictionary(doc) for name, doc in corpus])\n",
        "    doc_feature_matrix = corpusVectorizer.transform([to_feature_vector_dictionary(doc) for name, doc in corpus])\n",
        "    \n",
        "    #training_feature_matrix[0].toarray()\n",
        "    return doc_feature_matrix\n",
        "\n",
        "training_feature_matrix = create_document_matrix_from_corpus(training_corpus, fitting=True)"
      ],
      "metadata": {
        "id": "cyoiNc0B9Cgo"
      },
      "execution_count": 26,
      "outputs": []
    },
    {
      "cell_type": "code",
      "source": [
        "# get the validation data- only 40 lines used for each character\n",
        "val_character_docs = create_character_document_from_dataframe(val_data, max_line_count=40)\n",
        "print('Num. Characters: ',len(val_character_docs.keys()),\"\\n\")\n",
        "total_words = 0\n",
        "for name in val_character_docs.keys():\n",
        "    print(name, 'Num of Words: ',len(val_character_docs[name].split()))\n",
        "    total_words += len(val_character_docs[name].split())\n",
        "print(\"total words\", total_words)\n",
        "\n",
        "# create list of pairs of (character name, pre-processed character) \n",
        "val_corpus = [(name, pre_process(doc)) for name, doc in sorted(val_character_docs.items())]\n",
        "val_labels = [name for name, doc in val_corpus]"
      ],
      "metadata": {
        "id": "xW_vdIWO9KQi",
        "colab": {
          "base_uri": "https://localhost:8080/"
        },
        "outputId": "3a1e98bd-9ad3-4013-d20c-ee240c19f30e"
      },
      "execution_count": 27,
      "outputs": [
        {
          "output_type": "stream",
          "name": "stdout",
          "text": [
            "lines per character {'TANYA': 40, 'MAX': 40, 'SEAN': 35, 'SHIRLEY': 40, 'OTHER': 40, 'STACEY': 40, 'RONNIE': 40, 'JACK': 40, 'PHIL': 40, 'IAN': 40, 'JANE': 40, 'ROXY': 40, 'HEATHER': 40, 'MINTY': 40, 'CHRISTIAN': 40, 'CLARE': 40}\n",
            "Num. Characters:  16 \n",
            "\n",
            "TANYA Num of Words:  438\n",
            "MAX Num of Words:  737\n",
            "SEAN Num of Words:  366\n",
            "SHIRLEY Num of Words:  329\n",
            "OTHER Num of Words:  357\n",
            "STACEY Num of Words:  412\n",
            "RONNIE Num of Words:  464\n",
            "JACK Num of Words:  351\n",
            "PHIL Num of Words:  475\n",
            "IAN Num of Words:  508\n",
            "JANE Num of Words:  458\n",
            "ROXY Num of Words:  392\n",
            "HEATHER Num of Words:  411\n",
            "MINTY Num of Words:  470\n",
            "CHRISTIAN Num of Words:  489\n",
            "CLARE Num of Words:  405\n",
            "total words 7062\n"
          ]
        }
      ]
    },
    {
      "cell_type": "code",
      "source": [
        "# Just transform the val_feature_matrix, don't fit\n",
        "val_feature_matrix = create_document_matrix_from_corpus(val_corpus, fitting=False)"
      ],
      "metadata": {
        "id": "qmjBI42B9mMZ"
      },
      "execution_count": 28,
      "outputs": []
    },
    {
      "cell_type": "code",
      "source": [
        "def compute_IR_evaluation_scores(train_feature_matrix, test_feature_matrix, train_labels, test_labels):\n",
        "  \n",
        "    rankings = []\n",
        "    all_cosine_similarities = []\n",
        "    pairwise_cosine_similarity = []\n",
        "    pairs = []\n",
        "    correct = 0\n",
        "    for i, target in enumerate(test_labels):\n",
        "        # compare the left out character against the mean\n",
        "        idx = i \n",
        "        fm_1 = test_feature_matrix.toarray()[idx]\n",
        "        all_sims = {}\n",
        "        # print(\"target:\", target)\n",
        "        for j, other in enumerate(train_labels):\n",
        "            fm_2 = train_feature_matrix.toarray()[j]\n",
        "            manual_cosine_similarity = compute_cosine_similarity(fm_1, fm_2)\n",
        "            pairs.append((target, other))\n",
        "            pairwise_cosine_similarity.append(manual_cosine_similarity)\n",
        "            if other == target:\n",
        "                all_cosine_similarities.append(manual_cosine_similarity)\n",
        "            all_sims[other] = manual_cosine_similarity\n",
        "\n",
        "            # print(target, other, manual_cosine_similarity)\n",
        "        sorted_similarities = sorted(all_sims.items(),key=lambda x:x[1],reverse=True)\n",
        "        # print(sorted_similarities)\n",
        "        ranking = {key[0]: rank for rank, key in enumerate(sorted_similarities, 1)}\n",
        "        # print(\"Ranking for target\", ranking[target])\n",
        "        if ranking[target] == 1:\n",
        "            correct += 1\n",
        "        rankings.append(ranking[target])\n",
        "        # print(\"*****\")\n",
        "    mean_rank = np.mean(rankings)\n",
        "    mean_cosine_similarity = np.mean(all_cosine_similarities)\n",
        "    accuracy = correct/len(test_labels)\n",
        "    print(\"mean rank\", np.mean(rankings))\n",
        "    print(\"mean cosine similarity\", mean_cosine_similarity)\n",
        "    print(correct, \"correct out of\", len(test_labels), \"/ accuracy:\", accuracy )\n",
        "    \n",
        "    # get a dafaframe showing all the similarity scores of training vs test docs\n",
        "    df = pd.DataFrame({'doc1': [x[0] for x in pairs], 'doc2': [x[1] for x in pairs],\n",
        "                       'similarity': pairwise_cosine_similarity})\n",
        "\n",
        "    # display characters which are most similar and least similar\n",
        "    df.loc[[df.similarity.values.argmax(), df.similarity.values.argmin()]]\n",
        "    return (mean_rank, mean_cosine_similarity, accuracy, df)"
      ],
      "metadata": {
        "id": "wWcemZup7TeY"
      },
      "execution_count": 29,
      "outputs": []
    },
    {
      "cell_type": "code",
      "source": [
        "mean_rank, mean_cosine_simliarity, acc, df = compute_IR_evaluation_scores(training_feature_matrix, val_feature_matrix, train_labels, val_labels)"
      ],
      "metadata": {
        "id": "ftStnwQ3CUUx",
        "colab": {
          "base_uri": "https://localhost:8080/"
        },
        "outputId": "f4ac8aaf-e5fc-4525-af41-daa2a2a195c6"
      },
      "execution_count": 30,
      "outputs": [
        {
          "output_type": "stream",
          "name": "stdout",
          "text": [
            "mean rank 2.3125\n",
            "mean cosine similarity 0.9375311781367808\n",
            "6 correct out of 16 / accuracy: 0.375\n"
          ]
        }
      ]
    },
    {
      "cell_type": "markdown",
      "metadata": {
        "id": "72yD5jSTzvNF"
      },
      "source": [
        "# Q2. Improve linguistic feature extraction (15 marks)\n",
        "Use the feature extraction techniques you have learned to improve the `to_feature_vector_dictionary` function above. Examples of extra features could include extracting n-grams of different lengths and including POS-tags. You could also use sentiment analysis and gender classification (using the same data) as additional features.\n",
        "\n",
        "You could use some feature selection/reduction with techniques like minimum document frequency and/or feature selection like k-best selection using different criteria https://scikit-learn.org/stable/modules/generated/sklearn.feature_selection.SelectKBest.html. Again, develop on 90% training and 10% validation split and note the effect/improvement in mean rank with the techniques you use."
      ]
    },
    {
      "cell_type": "code",
      "source": [
        "import spacy\n",
        "from nltk import ngrams\n",
        "\n",
        "def to_feature_vector_dictionary(character_doc, extra_features=[]):\\\n",
        "    \n",
        "    #POS tag\n",
        "    tag = spacy.load(\"en_core_web_sm\")\n",
        "    content = tag(\" \".join(character_doc))\n",
        "    dictionary = []\n",
        "    for token in content:\n",
        "      dictionary.append(str(token.text) + \"|\" + str(token.pos_))\n",
        "\n",
        "    final_dictionary = Counter(dictionary) \n",
        "    final_dictionary = dict(final_dictionary)\n",
        "\n",
        "    # Adding N-Grams:\n",
        "    n = 2\n",
        "    bigrams = ngrams(character_doc, n)\n",
        "    for item in bigrams:\n",
        "      key = item[0] + \"|\" + item[1]\n",
        "      if key in final_dictionary.keys():\n",
        "        final_dictionary[key] += 1\n",
        "      else:\n",
        "        final_dictionary[key] = 1\n",
        "\n",
        "\n",
        "    # print(final_dictionary)\n",
        "    return final_dictionary"
      ],
      "metadata": {
        "id": "5d4zr-eOIamt"
      },
      "execution_count": 31,
      "outputs": []
    },
    {
      "cell_type": "code",
      "source": [
        "corpusVectorizer = DictVectorizer()   # corpusVectorizor which will just produce sparse vectors from feature dicts\n",
        "# Any matrix transformers (e.g. tf-idf transformers) should be initialized here\n",
        "\n",
        "\n",
        "def create_document_matrix_from_corpus(corpus, fitting=False):\n",
        "    \n",
        "    # uses the global variable of the corpus Vectorizer to improve things\n",
        "    if fitting:\n",
        "        corpusVectorizer.fit([to_feature_vector_dictionary(doc) for name, doc in corpus])\n",
        "    doc_feature_matrix = corpusVectorizer.transform([to_feature_vector_dictionary(doc) for name, doc in corpus])\n",
        "    \n",
        "    #training_feature_matrix[0].toarray()\n",
        "    return doc_feature_matrix\n",
        "\n",
        "training_feature_matrix = create_document_matrix_from_corpus(training_corpus, fitting=True)"
      ],
      "metadata": {
        "id": "VQbOOaUZ5NWb"
      },
      "execution_count": 32,
      "outputs": []
    },
    {
      "cell_type": "code",
      "source": [
        "# get the validation data- only 40 lines used for each character\n",
        "val_character_docs = create_character_document_from_dataframe(val_data, max_line_count=40)\n",
        "print('Num. Characters: ',len(val_character_docs.keys()),\"\\n\")\n",
        "total_words = 0\n",
        "for name in val_character_docs.keys():\n",
        "    print(name, 'Num of Words: ',len(val_character_docs[name].split()))\n",
        "    total_words += len(val_character_docs[name].split())\n",
        "print(\"total words\", total_words)\n",
        "\n",
        "# create list of pairs of (character name, pre-processed character) \n",
        "val_corpus = [(name, pre_process(doc)) for name, doc in sorted(val_character_docs.items())]\n",
        "val_labels = [name for name, doc in val_corpus]"
      ],
      "metadata": {
        "colab": {
          "base_uri": "https://localhost:8080/"
        },
        "id": "zqpAnTdN82OH",
        "outputId": "e671a656-e8c1-4a2a-c646-76978671e7e4"
      },
      "execution_count": 33,
      "outputs": [
        {
          "output_type": "stream",
          "name": "stdout",
          "text": [
            "lines per character {'TANYA': 40, 'MAX': 40, 'SEAN': 35, 'SHIRLEY': 40, 'OTHER': 40, 'STACEY': 40, 'RONNIE': 40, 'JACK': 40, 'PHIL': 40, 'IAN': 40, 'JANE': 40, 'ROXY': 40, 'HEATHER': 40, 'MINTY': 40, 'CHRISTIAN': 40, 'CLARE': 40}\n",
            "Num. Characters:  16 \n",
            "\n",
            "TANYA Num of Words:  438\n",
            "MAX Num of Words:  737\n",
            "SEAN Num of Words:  366\n",
            "SHIRLEY Num of Words:  329\n",
            "OTHER Num of Words:  357\n",
            "STACEY Num of Words:  412\n",
            "RONNIE Num of Words:  464\n",
            "JACK Num of Words:  351\n",
            "PHIL Num of Words:  475\n",
            "IAN Num of Words:  508\n",
            "JANE Num of Words:  458\n",
            "ROXY Num of Words:  392\n",
            "HEATHER Num of Words:  411\n",
            "MINTY Num of Words:  470\n",
            "CHRISTIAN Num of Words:  489\n",
            "CLARE Num of Words:  405\n",
            "total words 7062\n"
          ]
        }
      ]
    },
    {
      "cell_type": "code",
      "source": [
        "# Just transform the val_feature_matrix, don't fit\n",
        "val_feature_matrix = create_document_matrix_from_corpus(val_corpus, fitting=False)"
      ],
      "metadata": {
        "id": "sLutYdJV8-a3"
      },
      "execution_count": 34,
      "outputs": []
    },
    {
      "cell_type": "code",
      "source": [
        "def compute_IR_evaluation_scores(train_feature_matrix, test_feature_matrix, train_labels, test_labels):\n",
        "  \n",
        "    rankings = []\n",
        "    all_cosine_similarities = []\n",
        "    pairwise_cosine_similarity = []\n",
        "    pairs = []\n",
        "    correct = 0\n",
        "    for i, target in enumerate(test_labels):\n",
        "        # compare the left out character against the mean\n",
        "        idx = i \n",
        "        fm_1 = test_feature_matrix.toarray()[idx]\n",
        "        all_sims = {}\n",
        "        # print(\"target:\", target)\n",
        "        for j, other in enumerate(train_labels):\n",
        "            fm_2 = train_feature_matrix.toarray()[j]\n",
        "            manual_cosine_similarity = compute_cosine_similarity(fm_1, fm_2)\n",
        "            pairs.append((target, other))\n",
        "            pairwise_cosine_similarity.append(manual_cosine_similarity)\n",
        "            if other == target:\n",
        "                all_cosine_similarities.append(manual_cosine_similarity)\n",
        "            all_sims[other] = manual_cosine_similarity\n",
        "\n",
        "            # print(target, other, manual_cosine_similarity)\n",
        "        sorted_similarities = sorted(all_sims.items(),key=lambda x:x[1],reverse=True)\n",
        "        # print(sorted_similarities)\n",
        "        ranking = {key[0]: rank for rank, key in enumerate(sorted_similarities, 1)}\n",
        "        # print(\"Ranking for target\", ranking[target])\n",
        "        if ranking[target] == 1:\n",
        "            correct += 1\n",
        "        rankings.append(ranking[target])\n",
        "        # print(\"*****\")\n",
        "    mean_rank = np.mean(rankings)\n",
        "    mean_cosine_similarity = np.mean(all_cosine_similarities)\n",
        "    accuracy = correct/len(test_labels)\n",
        "    print(\"mean rank\", np.mean(rankings))\n",
        "    print(\"mean cosine similarity\", mean_cosine_similarity)\n",
        "    print(correct, \"correct out of\", len(test_labels), \"/ accuracy:\", accuracy )\n",
        "    \n",
        "    # get a dafaframe showing all the similarity scores of training vs test docs\n",
        "    df = pd.DataFrame({'doc1': [x[0] for x in pairs], 'doc2': [x[1] for x in pairs],\n",
        "                       'similarity': pairwise_cosine_similarity})\n",
        "\n",
        "    # display characters which are most similar and least similar\n",
        "    df.loc[[df.similarity.values.argmax(), df.similarity.values.argmin()]]\n",
        "    return (mean_rank, mean_cosine_similarity, accuracy, df)"
      ],
      "metadata": {
        "id": "sorjxZUR9Er_"
      },
      "execution_count": 35,
      "outputs": []
    },
    {
      "cell_type": "code",
      "source": [
        "mean_rank, mean_cosine_simliarity, acc, df = compute_IR_evaluation_scores(training_feature_matrix, val_feature_matrix, train_labels, val_labels)"
      ],
      "metadata": {
        "colab": {
          "base_uri": "https://localhost:8080/"
        },
        "id": "o9tJLKDh9I0W",
        "outputId": "2de39736-d239-4b08-98b1-64555b22628f"
      },
      "execution_count": 36,
      "outputs": [
        {
          "output_type": "stream",
          "name": "stdout",
          "text": [
            "mean rank 1.875\n",
            "mean cosine similarity 0.8993908022800757\n",
            "8 correct out of 16 / accuracy: 0.5\n"
          ]
        }
      ]
    },
    {
      "cell_type": "markdown",
      "metadata": {
        "id": "BEB7h94AzvNF"
      },
      "source": [
        "# Q3. Add dialogue context data and features (15 marks)\n",
        "Adjust `create_character_document_from_dataframe` and the other functions appropriately so the data incorporates the context of the line spoken by the characters in terms of the lines spoken by other characters in the same scene (immediately before and after). You can also use **scene information** from the other columns **(but NOT the gender and character names directly)**."
      ]
    },
    {
      "cell_type": "code",
      "source": [
        "# get the validation data- only 40 lines used for each character\n",
        "val_character_docs = create_character_document_from_dataframe(val_data, max_line_count=40)\n",
        "print('Num. Characters: ',len(val_character_docs.keys()),\"\\n\")\n",
        "total_words = 0\n",
        "for name in val_character_docs.keys():\n",
        "    print(name, 'Num of Words: ',len(val_character_docs[name].split()))\n",
        "    total_words += len(val_character_docs[name].split())\n",
        "print(\"total words\", total_words)\n",
        "\n",
        "# create list of pairs of (character name, pre-processed character) \n",
        "val_corpus = [(name, pre_process(doc)) for name, doc in sorted(val_character_docs.items())]\n",
        "val_labels = [name for name, doc in val_corpus]"
      ],
      "metadata": {
        "id": "dLnSzeXMJJa9",
        "colab": {
          "base_uri": "https://localhost:8080/"
        },
        "outputId": "2eafbb5e-e534-4578-e94b-fc2c7629d084"
      },
      "execution_count": 37,
      "outputs": [
        {
          "output_type": "stream",
          "name": "stdout",
          "text": [
            "lines per character {'TANYA': 40, 'MAX': 40, 'SEAN': 35, 'SHIRLEY': 40, 'OTHER': 40, 'STACEY': 40, 'RONNIE': 40, 'JACK': 40, 'PHIL': 40, 'IAN': 40, 'JANE': 40, 'ROXY': 40, 'HEATHER': 40, 'MINTY': 40, 'CHRISTIAN': 40, 'CLARE': 40}\n",
            "Num. Characters:  16 \n",
            "\n",
            "TANYA Num of Words:  438\n",
            "MAX Num of Words:  737\n",
            "SEAN Num of Words:  366\n",
            "SHIRLEY Num of Words:  329\n",
            "OTHER Num of Words:  357\n",
            "STACEY Num of Words:  412\n",
            "RONNIE Num of Words:  464\n",
            "JACK Num of Words:  351\n",
            "PHIL Num of Words:  475\n",
            "IAN Num of Words:  508\n",
            "JANE Num of Words:  458\n",
            "ROXY Num of Words:  392\n",
            "HEATHER Num of Words:  411\n",
            "MINTY Num of Words:  470\n",
            "CHRISTIAN Num of Words:  489\n",
            "CLARE Num of Words:  405\n",
            "total words 7062\n"
          ]
        }
      ]
    },
    {
      "cell_type": "code",
      "source": [
        "# Just transform the val_feature_matrix, don't fit\n",
        "val_feature_matrix = create_document_matrix_from_corpus(val_corpus, fitting=False)"
      ],
      "metadata": {
        "id": "4LBQgLZCJM32"
      },
      "execution_count": 38,
      "outputs": []
    },
    {
      "cell_type": "code",
      "source": [
        "def compute_IR_evaluation_scores(train_feature_matrix, test_feature_matrix, train_labels, test_labels):\n",
        "  \n",
        "    rankings = []\n",
        "    all_cosine_similarities = []\n",
        "    pairwise_cosine_similarity = []\n",
        "    pairs = []\n",
        "    correct = 0\n",
        "    for i, target in enumerate(test_labels):\n",
        "        # compare the left out character against the mean\n",
        "        idx = i \n",
        "        fm_1 = test_feature_matrix.toarray()[idx]\n",
        "        all_sims = {}\n",
        "        # print(\"target:\", target)\n",
        "        for j, other in enumerate(train_labels):\n",
        "            fm_2 = train_feature_matrix.toarray()[j]\n",
        "            manual_cosine_similarity = compute_cosine_similarity(fm_1, fm_2)\n",
        "            pairs.append((target, other))\n",
        "            pairwise_cosine_similarity.append(manual_cosine_similarity)\n",
        "            if other == target:\n",
        "                all_cosine_similarities.append(manual_cosine_similarity)\n",
        "            all_sims[other] = manual_cosine_similarity\n",
        "\n",
        "            # print(target, other, manual_cosine_similarity)\n",
        "        sorted_similarities = sorted(all_sims.items(),key=lambda x:x[1],reverse=True)\n",
        "        # print(sorted_similarities)\n",
        "        ranking = {key[0]: rank for rank, key in enumerate(sorted_similarities, 1)}\n",
        "        # print(\"Ranking for target\", ranking[target])\n",
        "        if ranking[target] == 1:\n",
        "            correct += 1\n",
        "        rankings.append(ranking[target])\n",
        "        # print(\"*****\")\n",
        "    mean_rank = np.mean(rankings)\n",
        "    mean_cosine_similarity = np.mean(all_cosine_similarities)\n",
        "    accuracy = correct/len(test_labels)\n",
        "    print(\"mean rank\", np.mean(rankings))\n",
        "    print(\"mean cosine similarity\", mean_cosine_similarity)\n",
        "    print(correct, \"correct out of\", len(test_labels), \"/ accuracy:\", accuracy )\n",
        "    \n",
        "    # get a dafaframe showing all the similarity scores of training vs test docs\n",
        "    df = pd.DataFrame({'doc1': [x[0] for x in pairs], 'doc2': [x[1] for x in pairs],\n",
        "                       'similarity': pairwise_cosine_similarity})\n",
        "\n",
        "    # display characters which are most similar and least similar\n",
        "    df.loc[[df.similarity.values.argmax(), df.similarity.values.argmin()]]\n",
        "    return (mean_rank, mean_cosine_similarity, accuracy, df)"
      ],
      "metadata": {
        "id": "zEpB3RbWJRI0"
      },
      "execution_count": 39,
      "outputs": []
    },
    {
      "cell_type": "code",
      "source": [
        "mean_rank, mean_cosine_simliarity, acc, df = compute_IR_evaluation_scores(training_feature_matrix, val_feature_matrix, train_labels, val_labels)"
      ],
      "metadata": {
        "id": "0r6e9iQ_JULl",
        "colab": {
          "base_uri": "https://localhost:8080/"
        },
        "outputId": "f33523dd-d7c3-4ce8-e0d8-b91656c1f7e3"
      },
      "execution_count": 40,
      "outputs": [
        {
          "output_type": "stream",
          "name": "stdout",
          "text": [
            "mean rank 1.875\n",
            "mean cosine similarity 0.8993908022800757\n",
            "8 correct out of 16 / accuracy: 0.5\n"
          ]
        }
      ]
    },
    {
      "cell_type": "markdown",
      "metadata": {
        "id": "i3LjPWsszvNG"
      },
      "source": [
        "# Q4. Improve the vectorization method (10 marks)\n",
        "Use a matrix transformation technique like TF-IDF (https://scikit-learn.org/stable/modules/generated/sklearn.feature_extraction.text.TfidfTransformer.html) to improve the `create_document_matrix_from_corpus` function, which currently only uses a dictionary vectorizor (`DictVectorizer`) which straight-forwardly maps from the feature dictionaries produced for each character document to a sparse matrix.\n",
        "\n",
        "As the `create_document_matrix_from_corpus` is designed to be used both in training/fitting (with `fitting` set to `True`) and in transformation alone on test/validation data (with `fitting` set to `False`), make sure you initialize any transformers you want to try in the same place as `corpusVectorizer = DictVectorizer()` before you call \n",
        "`create_document_matrix_from_corpus`. Again, develop on 90% training 10% validation split and note the effect/improvement in mean rank with each technique you try."
      ]
    },
    {
      "cell_type": "code",
      "source": [
        "from sklearn.feature_extraction.text import TfidfTransformer\n",
        "\n",
        "corpusVectorizer = DictVectorizer()   # corpusVectorizor which will just produce sparse vectors from feature dicts\n",
        "# Any matrix transformers (e.g. tf-idf transformers) should be initialized here\n",
        "\n",
        "tfidf = TfidfTransformer()\n",
        "\n",
        "\n",
        "def create_document_matrix_from_corpus(corpus, fitting=False):\n",
        "    \n",
        "    # uses the global variable of the corpus Vectorizer to improve things\n",
        "    if fitting:\n",
        "        corpusVectorizer.fit([to_feature_vector_dictionary(doc) for name, doc in corpus])\n",
        "    doc_feature_matrix = corpusVectorizer.transform([to_feature_vector_dictionary(doc) for name, doc in corpus])\n",
        "    \n",
        "    #training_feature_matrix[0].toarray()\n",
        "    transformed_matrix = tfidf.fit_transform(doc_feature_matrix)\n",
        "    return transformed_matrix\n",
        "\n",
        "training_feature_matrix = create_document_matrix_from_corpus(training_corpus, fitting=True)"
      ],
      "metadata": {
        "id": "12DOVBXxK6R8"
      },
      "execution_count": 41,
      "outputs": []
    },
    {
      "cell_type": "code",
      "source": [
        "# get the validation data- only 40 lines used for each character\n",
        "val_character_docs = create_character_document_from_dataframe(val_data, max_line_count=40)\n",
        "print('Num. Characters: ',len(val_character_docs.keys()),\"\\n\")\n",
        "total_words = 0\n",
        "for name in val_character_docs.keys():\n",
        "    print(name, 'Num of Words: ',len(val_character_docs[name].split()))\n",
        "    total_words += len(val_character_docs[name].split())\n",
        "print(\"total words\", total_words)\n",
        "\n",
        "# create list of pairs of (character name, pre-processed character) \n",
        "val_corpus = [(name, pre_process(doc)) for name, doc in sorted(val_character_docs.items())]\n",
        "val_labels = [name for name, doc in val_corpus]"
      ],
      "metadata": {
        "colab": {
          "base_uri": "https://localhost:8080/"
        },
        "id": "d1lrhA4CLbrk",
        "outputId": "db820210-762a-4844-fa3f-28990938be7f"
      },
      "execution_count": 42,
      "outputs": [
        {
          "output_type": "stream",
          "name": "stdout",
          "text": [
            "lines per character {'TANYA': 40, 'MAX': 40, 'SEAN': 35, 'SHIRLEY': 40, 'OTHER': 40, 'STACEY': 40, 'RONNIE': 40, 'JACK': 40, 'PHIL': 40, 'IAN': 40, 'JANE': 40, 'ROXY': 40, 'HEATHER': 40, 'MINTY': 40, 'CHRISTIAN': 40, 'CLARE': 40}\n",
            "Num. Characters:  16 \n",
            "\n",
            "TANYA Num of Words:  438\n",
            "MAX Num of Words:  737\n",
            "SEAN Num of Words:  366\n",
            "SHIRLEY Num of Words:  329\n",
            "OTHER Num of Words:  357\n",
            "STACEY Num of Words:  412\n",
            "RONNIE Num of Words:  464\n",
            "JACK Num of Words:  351\n",
            "PHIL Num of Words:  475\n",
            "IAN Num of Words:  508\n",
            "JANE Num of Words:  458\n",
            "ROXY Num of Words:  392\n",
            "HEATHER Num of Words:  411\n",
            "MINTY Num of Words:  470\n",
            "CHRISTIAN Num of Words:  489\n",
            "CLARE Num of Words:  405\n",
            "total words 7062\n"
          ]
        }
      ]
    },
    {
      "cell_type": "code",
      "source": [
        "# Just transform the val_feature_matrix, don't fit\n",
        "val_feature_matrix = create_document_matrix_from_corpus(val_corpus, fitting=False)"
      ],
      "metadata": {
        "id": "4X7OEBvdLfQb"
      },
      "execution_count": 43,
      "outputs": []
    },
    {
      "cell_type": "code",
      "source": [
        "def compute_IR_evaluation_scores(train_feature_matrix, test_feature_matrix, train_labels, test_labels):\n",
        "  \n",
        "    rankings = []\n",
        "    all_cosine_similarities = []\n",
        "    pairwise_cosine_similarity = []\n",
        "    pairs = []\n",
        "    correct = 0\n",
        "    for i, target in enumerate(test_labels):\n",
        "        # compare the left out character against the mean\n",
        "        idx = i \n",
        "        fm_1 = test_feature_matrix.toarray()[idx]\n",
        "        all_sims = {}\n",
        "        # print(\"target:\", target)\n",
        "        for j, other in enumerate(train_labels):\n",
        "            fm_2 = train_feature_matrix.toarray()[j]\n",
        "            manual_cosine_similarity = compute_cosine_similarity(fm_1, fm_2)\n",
        "            pairs.append((target, other))\n",
        "            pairwise_cosine_similarity.append(manual_cosine_similarity)\n",
        "            if other == target:\n",
        "                all_cosine_similarities.append(manual_cosine_similarity)\n",
        "            all_sims[other] = manual_cosine_similarity\n",
        "\n",
        "            # print(target, other, manual_cosine_similarity)\n",
        "        sorted_similarities = sorted(all_sims.items(),key=lambda x:x[1],reverse=True)\n",
        "        # print(sorted_similarities)\n",
        "        ranking = {key[0]: rank for rank, key in enumerate(sorted_similarities, 1)}\n",
        "        # print(\"Ranking for target\", ranking[target])\n",
        "        if ranking[target] == 1:\n",
        "            correct += 1\n",
        "        rankings.append(ranking[target])\n",
        "        # print(\"*****\")\n",
        "    mean_rank = np.mean(rankings)\n",
        "    mean_cosine_similarity = np.mean(all_cosine_similarities)\n",
        "    accuracy = correct/len(test_labels)\n",
        "    print(\"mean rank\", np.mean(rankings))\n",
        "    print(\"mean cosine similarity\", mean_cosine_similarity)\n",
        "    print(correct, \"correct out of\", len(test_labels), \"/ accuracy:\", accuracy )\n",
        "    \n",
        "    # get a dafaframe showing all the similarity scores of training vs test docs\n",
        "    df = pd.DataFrame({'doc1': [x[0] for x in pairs], 'doc2': [x[1] for x in pairs],\n",
        "                       'similarity': pairwise_cosine_similarity})\n",
        "\n",
        "    # display characters which are most similar and least similar\n",
        "    df.loc[[df.similarity.values.argmax(), df.similarity.values.argmin()]]\n",
        "    return (mean_rank, mean_cosine_similarity, accuracy, df)"
      ],
      "metadata": {
        "id": "umtrpPHqLiCj"
      },
      "execution_count": 44,
      "outputs": []
    },
    {
      "cell_type": "code",
      "source": [
        "mean_rank, mean_cosine_simliarity, acc, df = compute_IR_evaluation_scores(training_feature_matrix, val_feature_matrix, train_labels, val_labels)"
      ],
      "metadata": {
        "colab": {
          "base_uri": "https://localhost:8080/"
        },
        "id": "zGYX4oTYLkkr",
        "outputId": "a63b58fd-e342-4d43-d233-5c121b142358"
      },
      "execution_count": 45,
      "outputs": [
        {
          "output_type": "stream",
          "name": "stdout",
          "text": [
            "mean rank 1.3125\n",
            "mean cosine similarity 0.7158780221064217\n",
            "13 correct out of 16 / accuracy: 0.8125\n"
          ]
        }
      ]
    },
    {
      "cell_type": "markdown",
      "metadata": {
        "id": "Y90MzdirzvNG"
      },
      "source": [
        "# Q5. Select and test the best vector representation method (10 marks)\n",
        "Finish the optimization of your vector representations by selecting the best combination of the techniques you tried in Q1-3 and test using the code below to train on all of the training data (using the first 400 lines per character maximum) and do the final testing on the test file (using the first 40 lines per character maximum).\n",
        "\n",
        "Make any neccessary adjustments such that it runs in the same way as the training/testing regime you developed above- e.g. making sure any transformer objects are initialized before `create_document_matrix_from_corpus` is called. Make sure your best system is left in the notebook and it is clear what the mean rank, accuracy of document selection are on the test data."
      ]
    },
    {
      "cell_type": "code",
      "source": [
        "import spacy\n",
        "from nltk import ngrams\n",
        "from sklearn.feature_extraction.text import TfidfTransformer\n",
        "from nltk.tokenize import word_tokenize\n",
        "from nltk.stem import PorterStemmer\n",
        "nltk.download('punkt')"
      ],
      "metadata": {
        "colab": {
          "base_uri": "https://localhost:8080/"
        },
        "id": "YsWNwVeAx1Lz",
        "outputId": "d64a900f-48a2-4bd8-991a-a8a81adb11c4"
      },
      "execution_count": 46,
      "outputs": [
        {
          "output_type": "stream",
          "name": "stdout",
          "text": [
            "[nltk_data] Downloading package punkt to /root/nltk_data...\n",
            "[nltk_data]   Package punkt is already up-to-date!\n"
          ]
        },
        {
          "output_type": "execute_result",
          "data": {
            "text/plain": [
              "True"
            ]
          },
          "metadata": {},
          "execution_count": 46
        }
      ]
    },
    {
      "cell_type": "code",
      "source": [
        "# redo on all training data with the first 400 character lines used\n",
        "train_character_docs = create_character_document_from_dataframe(all_train_data, max_line_count=400)\n",
        "print('Num. Characters: ',len(train_character_docs.keys()),\"\\n\")\n",
        "total_words = 0\n",
        "for name in train_character_docs.keys():\n",
        "    print(name, 'Number of Words: ',len(train_character_docs[name].split()))\n",
        "    total_words += len(train_character_docs[name].split())\n",
        "print(\"total words\", total_words)"
      ],
      "metadata": {
        "colab": {
          "base_uri": "https://localhost:8080/"
        },
        "id": "6VCrZ0C-xNeW",
        "outputId": "ec22a081-93a2-41d4-dce4-d74053a7e5c2"
      },
      "execution_count": 47,
      "outputs": [
        {
          "output_type": "stream",
          "name": "stdout",
          "text": [
            "lines per character {'SHIRLEY': 400, 'OTHER': 400, 'JACK': 400, 'RONNIE': 400, 'TANYA': 400, 'SEAN': 400, 'ROXY': 400, 'HEATHER': 400, 'MAX': 400, 'IAN': 400, 'JANE': 400, 'STACEY': 400, 'PHIL': 400, 'MINTY': 400, 'CHRISTIAN': 385, 'CLARE': 400}\n",
            "Num. Characters:  16 \n",
            "\n",
            "SHIRLEY Number of Words:  4233\n",
            "OTHER Number of Words:  3606\n",
            "JACK Number of Words:  4786\n",
            "RONNIE Number of Words:  3872\n",
            "TANYA Number of Words:  4214\n",
            "SEAN Number of Words:  4026\n",
            "ROXY Number of Words:  4200\n",
            "HEATHER Number of Words:  4504\n",
            "MAX Number of Words:  5107\n",
            "IAN Number of Words:  4863\n",
            "JANE Number of Words:  4117\n",
            "STACEY Number of Words:  4325\n",
            "PHIL Number of Words:  4103\n",
            "MINTY Number of Words:  4391\n",
            "CHRISTIAN Number of Words:  4250\n",
            "CLARE Number of Words:  4844\n",
            "total words 69441\n"
          ]
        }
      ]
    },
    {
      "cell_type": "code",
      "source": [
        "def pre_process(character_text):\n",
        "\n",
        "  ps = PorterStemmer()\n",
        "\n",
        "  tokens = word_tokenize(character_text)\n",
        "  tokens\n",
        "\n",
        "  remove = [\"_eol_\"]\n",
        "\n",
        "  sentence = []\n",
        "\n",
        "  for word in tokens:\n",
        "    sentence.append(ps.stem(word))\n",
        "\n",
        "  for w in sentence:\n",
        "    if w in remove:\n",
        "      sentence.remove(w)\n",
        "\n",
        "  return sentence"
      ],
      "metadata": {
        "id": "VJui2SNGxZDW"
      },
      "execution_count": 48,
      "outputs": []
    },
    {
      "cell_type": "code",
      "source": [
        "training_corpus = [(name, pre_process(doc)) for name, doc in train_character_docs.items()]\n",
        "train_labels = [name for name, doc in training_corpus]"
      ],
      "metadata": {
        "id": "8X3RuXwnxcez"
      },
      "execution_count": 49,
      "outputs": []
    },
    {
      "cell_type": "code",
      "source": [
        "def to_feature_vector_dictionary(character_doc, extra_features=[]):\\\n",
        "    \n",
        "    #POS tag\n",
        "    tag = spacy.load(\"en_core_web_sm\")\n",
        "    content = tag(\" \".join(character_doc))\n",
        "    dictionary = []\n",
        "    for token in content:\n",
        "      dictionary.append(str(token.text) + \"|\" + str(token.pos_))\n",
        "\n",
        "    final_dictionary = Counter(dictionary) \n",
        "    final_dictionary = dict(final_dictionary)\n",
        "\n",
        "    # Adding N-Grams:\n",
        "    n = 2\n",
        "    bigrams = ngrams(character_doc, n)\n",
        "    for item in bigrams:\n",
        "      key = item[0] + \"|\" + item[1]\n",
        "      if key in final_dictionary.keys():\n",
        "        final_dictionary[key] += 1\n",
        "      else:\n",
        "        final_dictionary[key] = 1\n",
        "\n",
        "\n",
        "    # print(final_dictionary)\n",
        "    return final_dictionary"
      ],
      "metadata": {
        "id": "uyKHuavvxybh"
      },
      "execution_count": 50,
      "outputs": []
    },
    {
      "cell_type": "code",
      "source": [
        "corpusVectorizer = DictVectorizer()   # corpusVectorizor which will just produce sparse vectors from feature dicts\n",
        "# Any matrix transformers (e.g. tf-idf transformers) should be initialized here\n",
        "\n",
        "tfidf = TfidfTransformer()\n",
        "\n",
        "\n",
        "def create_document_matrix_from_corpus(corpus, fitting=False):\n",
        "    \n",
        "    # uses the global variable of the corpus Vectorizer to improve things\n",
        "    if fitting:\n",
        "        corpusVectorizer.fit([to_feature_vector_dictionary(doc) for name, doc in corpus])\n",
        "    doc_feature_matrix = corpusVectorizer.transform([to_feature_vector_dictionary(doc) for name, doc in corpus])\n",
        "    \n",
        "    #training_feature_matrix[0].toarray()\n",
        "    transformed_matrix = tfidf.fit_transform(doc_feature_matrix)\n",
        "    return transformed_matrix\n",
        "\n",
        "training_feature_matrix = create_document_matrix_from_corpus(training_corpus, fitting=True)"
      ],
      "metadata": {
        "id": "p9hff798xhk5"
      },
      "execution_count": 51,
      "outputs": []
    },
    {
      "cell_type": "code",
      "execution_count": 52,
      "metadata": {
        "id": "BQSaEv4ezvNG",
        "colab": {
          "base_uri": "https://localhost:8080/"
        },
        "outputId": "f9a8b370-3a04-4bc8-eb50-42c28a16af85"
      },
      "outputs": [
        {
          "output_type": "stream",
          "name": "stdout",
          "text": [
            "lines per character {'SHIRLEY': 40, 'OTHER': 40, 'HEATHER': 40, 'PHIL': 40, 'SEAN': 40, 'TANYA': 40, 'MAX': 40, 'JACK': 40, 'IAN': 40, 'JANE': 40, 'STACEY': 40, 'ROXY': 40, 'RONNIE': 40, 'CHRISTIAN': 40, 'MINTY': 40, 'CLARE': 40}\n",
            "Num. Characters:  16 \n",
            "\n",
            "SHIRLEY Number of Words:  373\n",
            "OTHER Number of Words:  453\n",
            "HEATHER Number of Words:  451\n",
            "PHIL Number of Words:  406\n",
            "SEAN Number of Words:  466\n",
            "TANYA Number of Words:  465\n",
            "MAX Number of Words:  494\n",
            "JACK Number of Words:  412\n",
            "IAN Number of Words:  509\n",
            "JANE Number of Words:  414\n",
            "STACEY Number of Words:  634\n",
            "ROXY Number of Words:  392\n",
            "RONNIE Number of Words:  390\n",
            "CHRISTIAN Number of Words:  629\n",
            "MINTY Number of Words:  428\n",
            "CLARE Number of Words:  368\n",
            "total words 7284\n",
            "mean rank 2.0625\n",
            "mean cosine similarity 0.7116173527949778\n",
            "10 correct out of 16 / accuracy: 0.625\n"
          ]
        }
      ],
      "source": [
        "# get the test data using 40 lines per character\n",
        "test_character_docs = create_character_document_from_dataframe(test_data, max_line_count=40)\n",
        "print('Num. Characters: ',len(test_character_docs.keys()),\"\\n\")\n",
        "total_words = 0\n",
        "for name in test_character_docs.keys():\n",
        "    print(name, 'Number of Words: ',len(test_character_docs[name].split()))\n",
        "    total_words += len(test_character_docs[name].split())\n",
        "print(\"total words\", total_words)\n",
        "\n",
        "# create list of pairs of (character name, pre-processed character) \n",
        "test_corpus = [(name, pre_process(doc)) for name, doc in test_character_docs.items()]\n",
        "test_labels = [name for name, doc in test_corpus]\n",
        "\n",
        "\n",
        "# Just transform the val_feature_matrix, don't fit\n",
        "test_feature_matrix = create_document_matrix_from_corpus(test_corpus, fitting=False)\n",
        "\n",
        "\n",
        "mean_rank, mean_cosine_simliarity, acc, df = compute_IR_evaluation_scores(training_feature_matrix, test_feature_matrix, train_labels, test_labels)"
      ]
    }
  ],
  "metadata": {
    "kernelspec": {
      "display_name": "Python 3",
      "language": "python",
      "name": "python3"
    },
    "language_info": {
      "codemirror_mode": {
        "name": "ipython",
        "version": 3
      },
      "file_extension": ".py",
      "mimetype": "text/x-python",
      "name": "python",
      "nbconvert_exporter": "python",
      "pygments_lexer": "ipython3",
      "version": "3.7.4"
    },
    "colab": {
      "name": "210911099_NLP_Assignment_2_distributional_semantics.ipynb",
      "provenance": [],
      "collapsed_sections": []
    }
  },
  "nbformat": 4,
  "nbformat_minor": 0
}